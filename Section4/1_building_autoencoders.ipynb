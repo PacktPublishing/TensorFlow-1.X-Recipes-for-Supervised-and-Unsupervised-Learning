{
 "cells": [
  {
   "cell_type": "markdown",
   "metadata": {},
   "source": [
    "# Building Autoencoders"
   ]
  },
  {
   "cell_type": "code",
   "execution_count": 1,
   "metadata": {},
   "outputs": [],
   "source": [
    "import tensorflow as tf\n",
    "import numpy as np\n",
    "import matplotlib.pyplot as plt\n",
    "import os\n",
    "\n",
    "from numpy import genfromtxt\n",
    "from tensorflow.contrib.layers import fully_connected\n",
    "from sklearn.preprocessing import StandardScaler\n",
    "\n",
    "%matplotlib inline    "
   ]
  },
  {
   "cell_type": "markdown",
   "metadata": {},
   "source": [
    "## 1. Load and prepare the data"
   ]
  },
  {
   "cell_type": "code",
   "execution_count": 2,
   "metadata": {
    "collapsed": true
   },
   "outputs": [],
   "source": [
    "current_dir = os.getcwd()\n",
    "## Training data\n",
    "train_dataset_path = os.path.join(os.getcwd(), os.pardir,'data','small_higgs.csv')\n",
    "higgs_train = genfromtxt(train_dataset_path, delimiter=',')\n",
    "X_low_level_features = higgs_train[:,1:22]\n",
    "#X_high_level_features = higgs_train[:,22:]\n",
    "#y_train = higgs_train[:,0]\n",
    "del higgs_train"
   ]
  },
  {
   "cell_type": "markdown",
   "metadata": {},
   "source": [
    "## 2. Build the input pipepline"
   ]
  },
  {
   "cell_type": "code",
   "execution_count": 3,
   "metadata": {
    "collapsed": true
   },
   "outputs": [],
   "source": [
    "BATCH_SIZE = 128\n",
    "\n",
    "train_dataset = tf.data.Dataset.from_tensor_slices(X_low_level_features)\n",
    "train_dataset = train_dataset.shuffle(buffer_size=10000)\n",
    "train_dataset = train_dataset.batch(BATCH_SIZE)\n",
    "iterator = train_dataset.make_initializable_iterator()\n",
    "next_element = iterator.get_next()"
   ]
  },
  {
   "cell_type": "markdown",
   "metadata": {},
   "source": [
    "## 3. Build a function containing the NN\n",
    "\n",
    "In this implementation, we must make sure that the weights to and from the central hidden layer (the one containing the codings) are \"tied\".\n",
    "\n",
    "Because of the architechture of the Autoencoder we will build this NN using the TensorFlow core."
   ]
  },
  {
   "cell_type": "code",
   "execution_count": 4,
   "metadata": {
    "collapsed": true
   },
   "outputs": [],
   "source": [
    "n_inputs = 21 # this is the number of low-level features in our dataset\n",
    "n_hidden1 = 12\n",
    "n_hidden2 = 4  # this is the number of \"codings\" we want to extract\n",
    "n_hidden3 = n_hidden1\n",
    "n_outputs = n_inputs\n",
    "\n",
    "def Autoencoder(inputs):\n",
    "    initializer = tf.contrib.layers.variance_scaling_initializer(seed=25)\n",
    "    w1_init = initializer([n_inputs, n_hidden1])\n",
    "    w2_init = initializer([n_hidden1, n_hidden2])\n",
    "    # Weights \n",
    "    w1 = tf.Variable(w1_init, dtype=tf.float32, name=\"weights1\")\n",
    "    w2 = tf.Variable(w2_init, dtype=tf.float32, name=\"weights2\")\n",
    "    # these should be the same as above or \"tied weights\"\n",
    "    w3 = tf.transpose(w2, name=\"weights3\")  \n",
    "    w4 = tf.transpose(w1, name=\"weights4\")\n",
    "    # Biases\n",
    "    b1 = tf.Variable(tf.zeros(n_hidden1), name=\"biases1\")\n",
    "    b2 = tf.Variable(tf.zeros(n_hidden2), name=\"biases2\")\n",
    "    b3 = tf.Variable(tf.zeros(n_hidden3), name=\"biases3\")\n",
    "    b4 = tf.Variable(tf.zeros(n_outputs), name=\"biases4\")\n",
    "\n",
    "    ## Neural Network\n",
    "    hidden1 = tf.nn.relu(tf.matmul(inputs, w1) + b1)\n",
    "    codings = tf.nn.relu(tf.matmul(hidden1, w2) + b2)\n",
    "    hidden3 = tf.nn.relu(tf.matmul(codings, w3) + b3)\n",
    "    outputs = tf.matmul(hidden3, w4) + b4\n",
    "    return codings, outputs"
   ]
  },
  {
   "cell_type": "markdown",
   "metadata": {},
   "source": [
    "## 4. Create a placeholder to pass values for training"
   ]
  },
  {
   "cell_type": "code",
   "execution_count": 5,
   "metadata": {
    "collapsed": true
   },
   "outputs": [],
   "source": [
    "X = tf.placeholder(tf.float32, shape=[None, n_inputs])"
   ]
  },
  {
   "cell_type": "markdown",
   "metadata": {},
   "source": [
    "## 5. Define the loss "
   ]
  },
  {
   "cell_type": "code",
   "execution_count": 6,
   "metadata": {
    "collapsed": true
   },
   "outputs": [],
   "source": [
    "codings, X_out = Autoencoder(X)\n",
    "loss = tf.reduce_mean(tf.square(X_out - X)) # also known as reconstruction loss"
   ]
  },
  {
   "cell_type": "markdown",
   "metadata": {},
   "source": [
    "## 6. Define the optimizer and training operation"
   ]
  },
  {
   "cell_type": "code",
   "execution_count": 7,
   "metadata": {
    "collapsed": true
   },
   "outputs": [],
   "source": [
    "optimizer = tf.train.AdamOptimizer()\n",
    "training_op = optimizer.minimize(loss)"
   ]
  },
  {
   "cell_type": "markdown",
   "metadata": {},
   "source": [
    "## 7. (Optional) Write a function for running the training operation"
   ]
  },
  {
   "cell_type": "code",
   "execution_count": 8,
   "metadata": {
    "collapsed": true
   },
   "outputs": [],
   "source": [
    "def train_model(epoch_number):\n",
    "    if epoch_number%10==0:\n",
    "        print(epoch_number, end=',')\n",
    "    iterator.initializer.run()\n",
    "    while True:\n",
    "        try:\n",
    "            X_values = sess.run(next_element)\n",
    "            sess.run(training_op, feed_dict={X: X_values})\n",
    "        except tf.errors.OutOfRangeError:\n",
    "            break"
   ]
  },
  {
   "cell_type": "markdown",
   "metadata": {},
   "source": [
    "## 8. Run the computation graph"
   ]
  },
  {
   "cell_type": "code",
   "execution_count": 9,
   "metadata": {},
   "outputs": [
    {
     "name": "stdout",
     "output_type": "stream",
     "text": [
      "Epoch: \n",
      "10,20,30,40,50,60,70,80,90,100,110,120,130,140,150,160,170,180,190,200,210,220,230,240,250,260,270,280,290,300,\n",
      "Done Training!\n"
     ]
    }
   ],
   "source": [
    "N_EPOCHS = 300\n",
    "with tf.Session() as sess:\n",
    "    tf.global_variables_initializer().run()\n",
    "    print(\"Epoch: \")\n",
    "    for epoch in range(1,N_EPOCHS+1):\n",
    "        train_model(epoch)\n",
    "    print(\"\\nDone Training!\")\n",
    "    resulting_codings, X_out = sess.run([codings, X_out], feed_dict={X: X_low_level_features})"
   ]
  },
  {
   "cell_type": "markdown",
   "metadata": {},
   "source": [
    "## 9. Visualize/analyze the results"
   ]
  },
  {
   "cell_type": "code",
   "execution_count": 10,
   "metadata": {},
   "outputs": [
    {
     "data": {
      "image/png": "[encoded data removed]",
      "text/plain": [
       "<matplotlib.figure.Figure at 0x21ac5c59358>"
      ]
     },
     "metadata": {},
     "output_type": "display_data"
    }
   ],
   "source": [
    "fig, axes = plt.subplots(nrows=1, ncols=4, figsize=(12,4))\n",
    "for i in range(4):\n",
    "    p = axes.flatten()[i]\n",
    "    p.hist(resulting_codings[:,i], bins=25, ec='black')\n",
    "    p.set_title('Resulting feature ' + str(i+1))\n",
    "    plt.tight_layout();"
   ]
  }
 ],
 "metadata": {
  "kernelspec": {
   "display_name": "Python 3",
   "language": "python",
   "name": "python3"
  },
  "language_info": {
   "codemirror_mode": {
    "name": "ipython",
    "version": 3
   },
   "file_extension": ".py",
   "mimetype": "text/x-python",
   "name": "python",
   "nbconvert_exporter": "python",
   "pygments_lexer": "ipython3",
   "version": "3.6.1"
  }
 },
 "nbformat": 4,
 "nbformat_minor": 2
}
