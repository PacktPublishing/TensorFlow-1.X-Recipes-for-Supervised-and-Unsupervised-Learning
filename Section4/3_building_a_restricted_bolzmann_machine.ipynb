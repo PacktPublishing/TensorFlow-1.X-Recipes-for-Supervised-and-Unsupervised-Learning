{
 "cells": [
  {
   "cell_type": "markdown",
   "metadata": {},
   "source": [
    "## Building a Restricted Boltzmann Machine"
   ]
  },
  {
   "cell_type": "code",
   "execution_count": 1,
   "metadata": {
    "collapsed": true
   },
   "outputs": [],
   "source": [
    "import tensorflow as tf\n",
    "import matplotlib.pyplot as plt\n",
    "import numpy as np\n",
    "\n",
    "from tensorflow.examples.tutorials.mnist import input_data\n",
    "\n",
    "%matplotlib inline"
   ]
  },
  {
   "cell_type": "markdown",
   "metadata": {},
   "source": [
    "## 1. Load and prepare the data"
   ]
  },
  {
   "cell_type": "code",
   "execution_count": 2,
   "metadata": {},
   "outputs": [
    {
     "name": "stdout",
     "output_type": "stream",
     "text": [
      "Extracting MNIST_data/train-images-idx3-ubyte.gz\n",
      "Extracting MNIST_data/train-labels-idx1-ubyte.gz\n",
      "Extracting MNIST_data/t10k-images-idx3-ubyte.gz\n",
      "Extracting MNIST_data/t10k-labels-idx1-ubyte.gz\n"
     ]
    }
   ],
   "source": [
    "mnist = input_data.read_data_sets(\"MNIST_data/\")"
   ]
  },
  {
   "cell_type": "markdown",
   "metadata": {},
   "source": [
    "## 2. Define the structure of the network"
   ]
  },
  {
   "cell_type": "code",
   "execution_count": 3,
   "metadata": {
    "collapsed": true
   },
   "outputs": [],
   "source": [
    "visible_nodes = 784\n",
    "hidden_nodes = 100\n",
    "learning_rate = 0.01"
   ]
  },
  {
   "cell_type": "markdown",
   "metadata": {},
   "source": [
    "## 3. Create the weights and biases"
   ]
  },
  {
   "cell_type": "markdown",
   "metadata": {},
   "source": [
    "Joint configuration: \n",
    "\n",
    "$$ E(v, h) = -av - bh - v^tWh $$"
   ]
  },
  {
   "cell_type": "code",
   "execution_count": 4,
   "metadata": {
    "collapsed": true
   },
   "outputs": [],
   "source": [
    "# Weights\n",
    "init_weights = tf.random_normal((visible_nodes, hidden_nodes), \n",
    "                                       mean=0., \n",
    "                                       stddev=1./visible_nodes)\n",
    "weights = tf.Variable(init_weights)\n",
    "\n",
    "# Biases: a and b\n",
    "visible_bias = tf.Variable(tf.zeros([visible_nodes])) # a\n",
    "hidden_bias = tf.Variable(tf.zeros([hidden_nodes])) # b"
   ]
  },
  {
   "cell_type": "markdown",
   "metadata": {},
   "source": [
    "## 4. Create the visible, hidden nodes and reconstructions"
   ]
  },
  {
   "cell_type": "code",
   "execution_count": 5,
   "metadata": {
    "collapsed": true
   },
   "outputs": [],
   "source": [
    "visible = tf.placeholder(tf.float32, shape=[None, visible_nodes])\n",
    "hidden = tf.nn.sigmoid(tf.matmul(visible, weights) + hidden_bias)\n",
    "# reconstructions\n",
    "visible_reconstruction = tf.nn.sigmoid(tf.matmul(hidden, tf.transpose(weights)) + visible_bias)\n",
    "final_hidden = tf.nn.sigmoid(tf.matmul(visible_reconstruction, weights) + hidden_bias)"
   ]
  },
  {
   "cell_type": "markdown",
   "metadata": {},
   "source": [
    "## 5. Calculate the expectations"
   ]
  },
  {
   "cell_type": "code",
   "execution_count": 6,
   "metadata": {
    "collapsed": true
   },
   "outputs": [],
   "source": [
    "expectations_data = tf.matmul(tf.transpose(visible), hidden)\n",
    "expectations_model = tf.matmul(tf.transpose(visible_reconstruction), final_hidden)\n",
    "diff = expectations_data - expectations_model"
   ]
  },
  {
   "cell_type": "markdown",
   "metadata": {},
   "source": [
    "## 6. Update the weights and biases"
   ]
  },
  {
   "cell_type": "code",
   "execution_count": 7,
   "metadata": {
    "collapsed": true
   },
   "outputs": [],
   "source": [
    "weight_update = weights.assign_add(learning_rate * diff)\n",
    "\n",
    "visible_bias_update = visible_bias.assign_add(learning_rate * tf.reduce_mean(visible - visible_reconstruction, 0))\n",
    "\n",
    "hidden_bias_update = hidden_bias.assign_add(learning_rate * tf.reduce_mean(hidden - final_hidden, 0))\n",
    "\n",
    "train_op = tf.group(weight_update, visible_bias_update, hidden_bias_update)\n",
    "\n",
    "## This is just for informative purposes\n",
    "loss = tf.reduce_sum(tf.square(visible - visible_reconstruction))"
   ]
  },
  {
   "cell_type": "markdown",
   "metadata": {},
   "source": [
    "## 7. Run the computational graph"
   ]
  },
  {
   "cell_type": "code",
   "execution_count": 8,
   "metadata": {},
   "outputs": [
    {
     "name": "stdout",
     "output_type": "stream",
     "text": [
      "Epoch: \n",
      "1,2,3,4,5,6,7,8,9,10,11,12,13,14,15,16,17,18,19,20,21,22,23,24,25,26,27,28,29,30,"
     ]
    }
   ],
   "source": [
    "n_epochs = 30\n",
    "batch_size = 64\n",
    "sess = tf.InteractiveSession()\n",
    "tf.global_variables_initializer().run()\n",
    "print(\"Epoch: \")\n",
    "for epoch in range(n_epochs):\n",
    "    for iteration in range(mnist.train.num_examples // batch_size):\n",
    "        x_batch, y_batch = mnist.train.next_batch(batch_size)\n",
    "        _ = sess.run([train_op, loss], feed_dict={visible: x_batch})\n",
    "    print(epoch+1, end=',')"
   ]
  },
  {
   "cell_type": "markdown",
   "metadata": {},
   "source": [
    "## Reconstructing some images"
   ]
  },
  {
   "cell_type": "code",
   "execution_count": 9,
   "metadata": {},
   "outputs": [
    {
     "data": {
      "image/png": "[encoded data removed]",
      "text/plain": [
       "<matplotlib.figure.Figure at 0x1ad800bc4e0>"
      ]
     },
     "metadata": {},
     "output_type": "display_data"
    }
   ],
   "source": [
    "n_images = 5\n",
    "reconstructed_imgs = []\n",
    "fig, ax = plt.subplots(nrows=n_images, ncols=2, figsize=(5,10))\n",
    "for i in range(n_images):\n",
    "    image = mnist.train.images[i]\n",
    "    reconstruction = sess.run(visible_reconstruction, \n",
    "                              feed_dict={visible:[image]})\n",
    "    reconstruction = reconstruction.reshape(28,28)\n",
    "    image = image.reshape(28,28)\n",
    "    reconstructed_imgs.append((image, reconstruction))\n",
    "    # plotting images\n",
    "    ax[i,0].imshow(-1*reconstructed_imgs[i][0], cmap='gray')\n",
    "    ax[i,0].set_title(\"Label: \" + str(mnist.train.labels[i]))\n",
    "    ax[i,0].set_xticks([]); ax[i,0].set_yticks([])\n",
    "    ax[i,1].imshow(-1*reconstructed_imgs[i][1], cmap='gray')\n",
    "    ax[i,1].set_title(\"Reconstruction\")\n",
    "    ax[i,1].set_xticks([]); ax[i,1].set_yticks([])"
   ]
  },
  {
   "cell_type": "markdown",
   "metadata": {},
   "source": [
    "Implementation based on:\n",
    "\n",
    "[A Practical Guide to Training Restricted Boltzmann Machines](http://www.cs.toronto.edu/~hinton/absps/guideTR.pdf)"
   ]
  }
 ],
 "metadata": {
  "kernelspec": {
   "display_name": "Python 3",
   "language": "python",
   "name": "python3"
  },
  "language_info": {
   "codemirror_mode": {
    "name": "ipython",
    "version": 3
   },
   "file_extension": ".py",
   "mimetype": "text/x-python",
   "name": "python",
   "nbconvert_exporter": "python",
   "pygments_lexer": "ipython3",
   "version": "3.6.1"
  }
 },
 "nbformat": 4,
 "nbformat_minor": 2
}
