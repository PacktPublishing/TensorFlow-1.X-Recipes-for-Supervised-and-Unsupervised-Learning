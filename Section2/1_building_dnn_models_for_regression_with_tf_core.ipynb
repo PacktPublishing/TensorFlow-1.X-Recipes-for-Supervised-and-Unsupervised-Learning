{
 "cells": [
  {
   "cell_type": "markdown",
   "metadata": {},
   "source": [
    "# Building DNN Models for Regression with TensorFlow core"
   ]
  },
  {
   "cell_type": "markdown",
   "metadata": {},
   "source": [
    "### Importing the libraries"
   ]
  },
  {
   "cell_type": "code",
   "execution_count": 1,
   "metadata": {},
   "outputs": [],
   "source": [
    "import tensorflow as tf\n",
    "import matplotlib.pyplot as plt\n",
    "import os\n",
    "%matplotlib inline"
   ]
  },
  {
   "cell_type": "markdown",
   "metadata": {},
   "source": [
    "## 1. Load and prepare the data"
   ]
  },
  {
   "cell_type": "code",
   "execution_count": 2,
   "metadata": {},
   "outputs": [],
   "source": [
    "from pandas import read_csv\n",
    "from sklearn.model_selection import train_test_split\n",
    "\n",
    "current_dir = os.getcwd()\n",
    "dataset_path = os.path.join(os.getcwd(), os.pardir,'data','diamond_prices.csv')\n",
    "diamonds = read_csv(dataset_path)\n",
    "TARGET = 'price'\n",
    "X_data = diamonds.iloc[:,1:].values\n",
    "y_data = diamonds[TARGET].values\n",
    "\n",
    "## Separating into training and testing\n",
    "X_train, X_val, y_train, y_val = train_test_split(X_data, y_data, train_size=0.95, random_state=12)"
   ]
  },
  {
   "cell_type": "markdown",
   "metadata": {},
   "source": [
    "## 2. Build the input pipeline"
   ]
  },
  {
   "cell_type": "code",
   "execution_count": 3,
   "metadata": {
    "collapsed": true
   },
   "outputs": [],
   "source": [
    "BATCH_SIZE = 128\n",
    "\n",
    "train_dataset = tf.data.Dataset.from_tensor_slices((X_train, y_train))\n",
    "train_dataset = train_dataset.shuffle(buffer_size=10000)\n",
    "train_dataset = train_dataset.batch(BATCH_SIZE)\n",
    "iterator = train_dataset.make_initializable_iterator()\n",
    "next_element = iterator.get_next()"
   ]
  },
  {
   "cell_type": "markdown",
   "metadata": {},
   "source": [
    "## 3. Build a function containing the DNN"
   ]
  },
  {
   "cell_type": "code",
   "execution_count": 4,
   "metadata": {
    "collapsed": true
   },
   "outputs": [],
   "source": [
    "n_hidden1 = 128\n",
    "n_hidden2 = 64\n",
    "n_hidden3 = 32\n",
    "n_hidden4 = 16\n",
    "n_outputs = 1\n",
    "\n",
    "def DNN(inputs):\n",
    "    wt_init = tf.contrib.layers.xavier_initializer()\n",
    "    hidden1 = tf.layers.dense(inputs, units=n_hidden1, activation=tf.nn.relu, \n",
    "                              kernel_initializer=wt_init)\n",
    "    hidden2 = tf.layers.dense(hidden1, units=n_hidden2, activation=tf.nn.relu, \n",
    "                              kernel_initializer=wt_init)\n",
    "    hidden3 = tf.layers.dense(hidden2, units=n_hidden3, activation=tf.nn.relu, \n",
    "                              kernel_initializer=wt_init)\n",
    "    hidden4 = tf.layers.dense(hidden3, units=n_hidden4, activation=tf.nn.relu, \n",
    "                              kernel_initializer=wt_init)\n",
    "    \n",
    "    y_pred = tf.layers.dense(hidden4, units=n_outputs, activation=None)\n",
    "    return tf.squeeze(y_pred)"
   ]
  },
  {
   "cell_type": "markdown",
   "metadata": {},
   "source": [
    "## 4. Create the placeholders to pass values for training and evaluation"
   ]
  },
  {
   "cell_type": "code",
   "execution_count": 5,
   "metadata": {
    "collapsed": true
   },
   "outputs": [],
   "source": [
    "n_inputs = X_data.shape[1] # number of features in the dataset\n",
    "X = tf.placeholder(tf.float32, shape=[None, n_inputs], name='X')\n",
    "y = tf.placeholder(tf.float32, name='target')"
   ]
  },
  {
   "cell_type": "markdown",
   "metadata": {},
   "source": [
    "## 5. Define the loss"
   ]
  },
  {
   "cell_type": "code",
   "execution_count": 6,
   "metadata": {
    "collapsed": true
   },
   "outputs": [],
   "source": [
    "y_pred = DNN(X)\n",
    "mse = tf.losses.mean_squared_error(labels=y, predictions=y_pred)\n",
    "\n",
    "# Optional:\n",
    "## Root Mean Squared Error for TensorBoard visualization\n",
    "rmse = tf.sqrt(mse)\n",
    "tf.summary.scalar('RMSE', rmse)\n",
    "## We will also visualize the distribution of the errors the model makes\n",
    "errors = y_pred - y\n",
    "tf.summary.histogram('Errors', errors)\n",
    "## Summary an writer objects for TensorBoard\n",
    "summary_values = tf.summary.merge_all()\n",
    "train_writer = tf.summary.FileWriter(os.path.join(current_dir, 'reg_logs','train'))\n",
    "val_writer = tf.summary.FileWriter(os.path.join(current_dir, 'reg_logs','validation'))"
   ]
  },
  {
   "cell_type": "markdown",
   "metadata": {},
   "source": [
    "## 6. Define the optimizer and training operation"
   ]
  },
  {
   "cell_type": "code",
   "execution_count": 7,
   "metadata": {
    "collapsed": true
   },
   "outputs": [],
   "source": [
    "optimizer = tf.train.AdamOptimizer()\n",
    "training_op = optimizer.minimize(mse)"
   ]
  },
  {
   "cell_type": "markdown",
   "metadata": {},
   "source": [
    "## 7. (Optional) Write a function for running the training operation"
   ]
  },
  {
   "cell_type": "code",
   "execution_count": 8,
   "metadata": {
    "collapsed": true
   },
   "outputs": [],
   "source": [
    "def train_model(epoch_number):\n",
    "    \"\"\"This fuction performs the training operation for one epoch,\n",
    "    then records metrics for TensorBoard visualization\"\"\"\n",
    "    print(epoch_number, end=',')\n",
    "    iterator.initializer.run()\n",
    "    while True:\n",
    "        try:\n",
    "            X_values, y_values = sess.run(next_element)\n",
    "            sess.run(training_op, feed_dict={X: X_values, y:y_values})\n",
    "        except tf.errors.OutOfRangeError:\n",
    "            break\n",
    "    ## Training RMSE (computed  only for the last batch of the epoch)\n",
    "    summaries = sess.run(summary_values, feed_dict={X:X_values, y:y_values})\n",
    "    train_writer.add_summary(summaries, epoch_number)\n",
    "    ## Validation RMSE (for all the validation set)\n",
    "    summaries = sess.run(summary_values, feed_dict={X:X_val, y:y_val})\n",
    "    val_writer.add_summary(summaries, epoch_number)"
   ]
  },
  {
   "cell_type": "markdown",
   "metadata": {},
   "source": [
    "## 8. Run the computation graph"
   ]
  },
  {
   "cell_type": "code",
   "execution_count": 9,
   "metadata": {},
   "outputs": [
    {
     "name": "stdout",
     "output_type": "stream",
     "text": [
      "Epoch: \n",
      "1,2,3,4,5,6,7,8,9,10,11,12,13,14,15,16,17,18,19,20,21,22,23,24,25,26,27,28,29,30,31,32,33,34,35,36,37,38,39,40,41,42,43,44,45,46,47,48,49,50,51,52,53,54,55,56,57,58,59,60,61,62,63,64,65,66,67,68,69,70,71,72,73,74,75,76,77,78,79,80,81,82,83,84,85,86,87,88,89,90,91,92,93,94,95,96,97,98,99,100,101,102,103,104,105,106,107,108,109,110,111,112,113,114,115,116,117,118,119,120,121,122,123,124,125,126,127,128,129,130,131,132,133,134,135,136,137,138,139,140,141,142,143,144,145,146,147,148,149,150,151,152,153,154,155,156,157,158,159,160,161,162,163,164,165,166,167,168,169,170,171,172,173,174,175,176,177,178,179,180,181,182,183,184,185,186,187,188,189,190,191,192,193,194,195,196,197,198,199,200,201,202,203,204,205,206,207,208,209,210,211,212,213,214,215,216,217,218,219,220,221,222,223,224,225,226,227,228,229,230,231,232,233,234,235,236,237,238,239,240,241,242,243,244,245,246,247,248,249,250,251,252,253,254,255,256,257,258,259,260,261,262,263,264,265,266,267,268,269,270,271,272,273,274,275,276,277,278,279,280,281,282,283,284,285,286,287,288,289,290,291,292,293,294,295,296,297,298,299,300,\n",
      "Done Training!\n"
     ]
    }
   ],
   "source": [
    "N_EPOCHS = 300\n",
    "with tf.Session() as sess:\n",
    "    tf.global_variables_initializer().run()\n",
    "    train_writer.add_graph(sess.graph)\n",
    "    \n",
    "    ## Training loop\n",
    "    print(\"Epoch: \")\n",
    "    for epoch in range(1,N_EPOCHS+1):\n",
    "        train_model(epoch)\n",
    "    print(\"\\nDone Training!\")\n",
    "    \n",
    "    # Closing the file writers\n",
    "    train_writer.close()\n",
    "    val_writer.close()\n",
    "    \n",
    "    # Getting the predictions for the validation dataset\n",
    "    predictions = sess.run(y_pred, feed_dict={X: X_val})"
   ]
  },
  {
   "cell_type": "markdown",
   "metadata": {},
   "source": [
    "## 9. Visualize/analyze the results of the model"
   ]
  },
  {
   "cell_type": "code",
   "execution_count": 10,
   "metadata": {},
   "outputs": [
    {
     "data": {
      "image/png": "[encoded data removed]",
      "text/plain": [
       "<matplotlib.figure.Figure at 0x20b9869ce48>"
      ]
     },
     "metadata": {},
     "output_type": "display_data"
    }
   ],
   "source": [
    "from numpy import linspace\n",
    "fig, ax = plt.subplots(figsize=(8,5))\n",
    "ax.scatter(x=predictions, y=y_val, s=0.5)\n",
    "x = linspace(0,18000)\n",
    "ax.plot(x, x,'r')\n",
    "ax.set_xlabel('Predicted prices')\n",
    "ax.set_ylabel('Observed prices')\n",
    "ax.set_title(\"Predictions vs. Observed Values in the validation set\");"
   ]
  },
  {
   "cell_type": "code",
   "execution_count": 11,
   "metadata": {},
   "outputs": [
    {
     "data": {
      "image/png": "[encoded data removed]",
      "text/plain": [
       "<matplotlib.figure.Figure at 0x20b9869c9e8>"
      ]
     },
     "metadata": {},
     "output_type": "display_data"
    }
   ],
   "source": [
    "fig, ax = plt.subplots(figsize=(8,5))\n",
    "ax.hist(abs(y_val-predictions), bins=100, edgecolor='black')\n",
    "ax.set_xlim(0, 4e3);"
   ]
  }
 ],
 "metadata": {
  "kernelspec": {
   "display_name": "Python 3",
   "language": "python",
   "name": "python3"
  },
  "language_info": {
   "codemirror_mode": {
    "name": "ipython",
    "version": 3
   },
   "file_extension": ".py",
   "mimetype": "text/x-python",
   "name": "python",
   "nbconvert_exporter": "python",
   "pygments_lexer": "ipython3",
   "version": "3.6.1"
  }
 },
 "nbformat": 4,
 "nbformat_minor": 2
}
