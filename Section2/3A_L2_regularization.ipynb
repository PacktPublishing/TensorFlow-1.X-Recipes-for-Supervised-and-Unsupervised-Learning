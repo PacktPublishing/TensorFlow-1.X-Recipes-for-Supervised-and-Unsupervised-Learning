{
 "cells": [
  {
   "cell_type": "markdown",
   "metadata": {},
   "source": [
    "# Building DNN Models for Classification with TF core\n",
    "\n",
    "Here we are using just a small subset of the data for demonstration pourposes. The complete dataset can be accessed here:\n",
    "https://archive.ics.uci.edu/ml/machine-learning-databases/00280/HIGGS.csv.gz\n"
   ]
  },
  {
   "cell_type": "code",
   "execution_count": 1,
   "metadata": {
    "collapsed": true
   },
   "outputs": [],
   "source": [
    "import tensorflow as tf\n",
    "import matplotlib.pyplot as plt\n",
    "import os\n",
    "\n",
    "from tensorflow.contrib.layers import l2_regularizer\n",
    "from sklearn.metrics import confusion_matrix, precision_score, recall_score, accuracy_score\n",
    "\n",
    "%matplotlib inline"
   ]
  },
  {
   "cell_type": "markdown",
   "metadata": {},
   "source": [
    "## 1. Load and prepare the data"
   ]
  },
  {
   "cell_type": "code",
   "execution_count": 2,
   "metadata": {
    "collapsed": true
   },
   "outputs": [],
   "source": [
    "from numpy import genfromtxt\n",
    "current_dir = os.getcwd()\n",
    "\n",
    "## Training data\n",
    "train_dataset_path = os.path.join(current_dir, os.pardir, 'data', 'small_higgs.csv')\n",
    "higgs_train = genfromtxt(train_dataset_path, delimiter=',')\n",
    "X_train = higgs_train[:,1:]\n",
    "y_train = higgs_train[:,0]\n",
    "del higgs_train\n",
    "\n",
    "# Validation data\n",
    "validation_dataset_path = os.path.join(os.getcwd(), os.pardir, 'data', 'validation_higgs.csv')\n",
    "higgs_val = genfromtxt(validation_dataset_path, delimiter=',')\n",
    "X_val = higgs_val[:,1:]\n",
    "y_val = higgs_val[:,0]\n",
    "del higgs_val"
   ]
  },
  {
   "cell_type": "markdown",
   "metadata": {},
   "source": [
    "## 2. Building the input pipepline"
   ]
  },
  {
   "cell_type": "code",
   "execution_count": 3,
   "metadata": {
    "collapsed": true
   },
   "outputs": [],
   "source": [
    "BATCH_SIZE = 128\n",
    "\n",
    "train_dataset = tf.data.Dataset.from_tensor_slices((X_train, y_train))\n",
    "train_dataset = train_dataset.shuffle(buffer_size=10000)\n",
    "train_dataset = train_dataset.batch(BATCH_SIZE)\n",
    "iterator = train_dataset.make_initializable_iterator()\n",
    "next_element = iterator.get_next()"
   ]
  },
  {
   "cell_type": "markdown",
   "metadata": {},
   "source": [
    "## 3. Build a function containing the DNN: use L2 regularization\n",
    "\n",
    "Here we are using `tf.contrib.layers.l2_regularizer`, from the documentation:\n",
    "\n",
    "*Args:*\n",
    "\n",
    "scale: A scalar multiplier Tensor. 0.0 disables the regularizer.\n",
    "scope: An optional scope name.\n",
    "\n",
    "*Returns:*\n",
    "\n",
    "A function with signature l2(weights) that applies L2 regularization."
   ]
  },
  {
   "cell_type": "code",
   "execution_count": 4,
   "metadata": {
    "collapsed": true
   },
   "outputs": [],
   "source": [
    "SCALE_REGULARIZER = 0.01\n",
    "\n",
    "n_hidden1 = 200\n",
    "n_hidden2 = 200\n",
    "n_hidden3 = 200\n",
    "n_hidden4 = 200\n",
    "n_outputs = 1\n",
    "\n",
    "def DNN_L2_Reg(inputs, scale_reg=SCALE_REGULARIZER):\n",
    "    wt_init = tf.contrib.layers.xavier_initializer()\n",
    "    l2_reg = l2_regularizer(scale_reg)\n",
    "    \n",
    "    hidden1 = tf.layers.dense(inputs, units=n_hidden1,\n",
    "                              activation=tf.nn.elu, \n",
    "                              kernel_initializer=wt_init,\n",
    "                              kernel_regularizer=l2_reg)\n",
    "\n",
    "    hidden2 = tf.layers.dense(hidden1, units=n_hidden1,\n",
    "                              activation=tf.nn.elu, \n",
    "                              kernel_initializer=wt_init,\n",
    "                              kernel_regularizer=l2_reg)\n",
    "    \n",
    "    hidden3 = tf.layers.dense(hidden2, units=n_hidden1,\n",
    "                              activation=tf.nn.elu, \n",
    "                              kernel_initializer=wt_init,\n",
    "                              kernel_regularizer=l2_reg)\n",
    "        \n",
    "    hidden4 = tf.layers.dense(hidden3, units=n_hidden1,\n",
    "                              activation=tf.nn.elu, \n",
    "                              kernel_initializer=wt_init,\n",
    "                              kernel_regularizer=l2_reg)\n",
    "    \n",
    "    logits = tf.layers.dense(hidden4, units=n_outputs, activation=None)\n",
    "    return tf.squeeze(logits)"
   ]
  },
  {
   "cell_type": "markdown",
   "metadata": {},
   "source": [
    "## 4. Create the placeholders to pass values for training and evaluation"
   ]
  },
  {
   "cell_type": "code",
   "execution_count": 5,
   "metadata": {
    "collapsed": true
   },
   "outputs": [],
   "source": [
    "n_inputs = X_train.shape[1] # number of features in the dataset\n",
    "X = tf.placeholder(tf.float32, shape=[None, n_inputs], name='X')\n",
    "y = tf.placeholder(tf.float32, name='target')"
   ]
  },
  {
   "cell_type": "markdown",
   "metadata": {},
   "source": [
    "## 5. Define the loss: add the proper regularization terms to the loss"
   ]
  },
  {
   "cell_type": "code",
   "execution_count": 6,
   "metadata": {},
   "outputs": [],
   "source": [
    "logits = DNN_L2_Reg(X)\n",
    "cross_entropy = tf.nn.sigmoid_cross_entropy_with_logits(labels=y, logits=logits)\n",
    "loss = tf.reduce_mean(cross_entropy)\n",
    "\n",
    "## Getting the values regularization weigths\n",
    "L2_weights = tf.get_collection(tf.GraphKeys.REGULARIZATION_LOSSES)\n",
    "sum_L2_weights = tf.reduce_sum(L2_weights)\n",
    "loss += sum_L2_weights\n",
    "\n",
    "tf.summary.scalar('loss', loss)\n",
    "\n",
    "## Optional: recording some metrics for visualization\n",
    "prob_of_signal = tf.nn.sigmoid(logits)\n",
    "y_pred = tf.cast(prob_of_signal > 0.5, dtype=tf.int32)\n",
    "accuracy, accuracy_update_op= tf.metrics.accuracy(labels=y, predictions=y_pred)\n",
    "tf.summary.scalar('accuracy', accuracy)\n",
    "auc, auc_update_op = tf.metrics.accuracy(labels=y, predictions=y_pred)\n",
    "tf.summary.scalar('AUC', auc)\n",
    "\n",
    "## Summary an writer objects for TensorBoard\n",
    "summary_values = tf.summary.merge_all()\n",
    "train_writer = tf.summary.FileWriter(os.path.join(current_dir, 'higgs_logs','L2_Reg_train'))\n",
    "val_writer = tf.summary.FileWriter(os.path.join(current_dir, 'higgs_logs','L2_Reg_validation'))"
   ]
  },
  {
   "cell_type": "markdown",
   "metadata": {},
   "source": [
    "## 6. Define the optimizer and training operation\n"
   ]
  },
  {
   "cell_type": "code",
   "execution_count": 7,
   "metadata": {
    "collapsed": true
   },
   "outputs": [],
   "source": [
    "optimizer = tf.train.AdamOptimizer()\n",
    "training_op = optimizer.minimize(loss)"
   ]
  },
  {
   "cell_type": "markdown",
   "metadata": {},
   "source": [
    "## 7. (Optional) Write a function for running the training operation"
   ]
  },
  {
   "cell_type": "code",
   "execution_count": 8,
   "metadata": {
    "collapsed": true
   },
   "outputs": [],
   "source": [
    "def train_model(epoch_number):\n",
    "    print(epoch_number, end=',')\n",
    "    iterator.initializer.run()\n",
    "    ## This is necesary for the metrics:\n",
    "    tf.local_variables_initializer().run()\n",
    "    while True:\n",
    "        try:\n",
    "            X_values, y_values = sess.run(next_element)\n",
    "            sess.run([training_op, accuracy_update_op, auc_update_op], \n",
    "                     feed_dict={X: X_values, y:y_values})\n",
    "        except tf.errors.OutOfRangeError:\n",
    "            break\n",
    "    ## Training metrics\n",
    "    summaries = sess.run(summary_values, feed_dict={X:X_values, y:y_values})\n",
    "    train_writer.add_summary(summaries, epoch_number)\n",
    "    ## The values for the metrics must be re-initialized\n",
    "    tf.local_variables_initializer().run()\n",
    "    sess.run([accuracy_update_op, auc_update_op], feed_dict={X: X_val, y:y_val})\n",
    "    summaries = sess.run(summary_values, feed_dict={X:X_val, y:y_val})\n",
    "    val_writer.add_summary(summaries, epoch_number)"
   ]
  },
  {
   "cell_type": "markdown",
   "metadata": {
    "collapsed": true
   },
   "source": [
    "## 8. Run the computation graph"
   ]
  },
  {
   "cell_type": "code",
   "execution_count": 9,
   "metadata": {},
   "outputs": [
    {
     "name": "stdout",
     "output_type": "stream",
     "text": [
      "Epoch: \n",
      "1,2,3,4,5,6,7,8,9,10,11,12,13,14,15,16,17,18,19,20,21,22,23,24,25,26,27,28,29,30,31,32,33,34,35,36,37,38,39,40,41,42,43,44,45,46,47,48,49,50,51,52,53,54,55,56,57,58,59,60,61,62,63,64,65,66,67,68,69,70,71,72,73,74,75,76,77,78,79,80,81,82,83,84,85,86,87,88,89,90,91,92,93,94,95,96,97,98,99,100,101,102,103,104,105,106,107,108,109,110,111,112,113,114,115,116,117,118,119,120,121,122,123,124,125,126,127,128,129,130,131,132,133,134,135,136,137,138,139,140,141,142,143,144,145,146,147,148,149,150,151,152,153,154,155,156,157,158,159,160,161,162,163,164,165,166,167,168,169,170,171,172,173,174,175,176,177,178,179,180,181,182,183,184,185,186,187,188,189,190,191,192,193,194,195,196,197,198,199,200,201,202,203,204,205,206,207,208,209,210,211,212,213,214,215,216,217,218,219,220,221,222,223,224,225,226,227,228,229,230,231,232,233,234,235,236,237,238,239,240,241,242,243,244,245,246,247,248,249,250,251,252,253,254,255,256,257,258,259,260,261,262,263,264,265,266,267,268,269,270,271,272,273,274,275,276,277,278,279,280,281,282,283,284,285,286,287,288,289,290,291,292,293,294,295,296,297,298,299,300,301,302,303,304,305,306,307,308,309,310,311,312,313,314,315,316,317,318,319,320,321,322,323,324,325,326,327,328,329,330,331,332,333,334,335,336,337,338,339,340,341,342,343,344,345,346,347,348,349,350,351,352,353,354,355,356,357,358,359,360,361,362,363,364,365,366,367,368,369,370,371,372,373,374,375,376,377,378,379,380,381,382,383,384,385,386,387,388,389,390,391,392,393,394,395,396,397,398,399,400,\n",
      "Done Training!\n"
     ]
    }
   ],
   "source": [
    "N_EPOCHS = 400\n",
    "with tf.Session() as sess:\n",
    "    tf.global_variables_initializer().run()\n",
    "    train_writer.add_graph(sess.graph)\n",
    "    ## Training loop\n",
    "    print(\"Epoch: \")\n",
    "    for epoch in range(1,N_EPOCHS+1):\n",
    "        train_model(epoch)\n",
    "    print(\"\\nDone Training!\")\n",
    "    \n",
    "    # Closing the file writers\n",
    "    train_writer.close()\n",
    "    val_writer.close()\n",
    "    # Getting predictions\n",
    "    predictions = sess.run(y_pred, feed_dict={X: X_val})"
   ]
  },
  {
   "cell_type": "markdown",
   "metadata": {
    "collapsed": true
   },
   "source": [
    "## 9. Visualize/analyze the results of the model"
   ]
  },
  {
   "cell_type": "code",
   "execution_count": 10,
   "metadata": {},
   "outputs": [
    {
     "data": {
      "text/plain": [
       "array([[1343,  982],\n",
       "       [ 669, 2006]])"
      ]
     },
     "execution_count": 10,
     "metadata": {},
     "output_type": "execute_result"
    }
   ],
   "source": [
    "confusion_matrix(y_true=y_val, y_pred=predictions)"
   ]
  },
  {
   "cell_type": "code",
   "execution_count": 11,
   "metadata": {},
   "outputs": [
    {
     "name": "stdout",
     "output_type": "stream",
     "text": [
      "Precision:  0.671352074967\n",
      "Recall:  0.749906542056\n",
      "Accuracy:  0.6698\n"
     ]
    }
   ],
   "source": [
    "print(\"Precision: \", precision_score(y_true=y_val, y_pred=predictions))\n",
    "print(\"Recall: \", recall_score(y_true=y_val, y_pred=predictions))\n",
    "print(\"Accuracy: \", accuracy_score(y_true=y_val, y_pred=predictions))"
   ]
  }
 ],
 "metadata": {
  "kernelspec": {
   "display_name": "Python 3",
   "language": "python",
   "name": "python3"
  },
  "language_info": {
   "codemirror_mode": {
    "name": "ipython",
    "version": 3
   },
   "file_extension": ".py",
   "mimetype": "text/x-python",
   "name": "python",
   "nbconvert_exporter": "python",
   "pygments_lexer": "ipython3",
   "version": "3.6.1"
  }
 },
 "nbformat": 4,
 "nbformat_minor": 2
}
